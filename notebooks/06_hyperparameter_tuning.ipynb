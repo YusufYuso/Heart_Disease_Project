{
 "cells": [
  {
   "cell_type": "markdown",
   "id": "b0d8a2fd",
   "metadata": {},
   "source": [
    "# 2.6 Hyperparameter Tuning\n",
    "## *Steps:*\n",
    "1. Use GridSearchCV & RandomizedSearchCV to optimize model hyperparameters.\n",
    "2. Compare optimized models with baseline performance.\n",
    "## *Deliverable:*\n",
    "- Best performing model with optimized hyperparameters"
   ]
  },
  {
   "cell_type": "code",
   "id": "94a5f60e",
   "metadata": {
    "ExecuteTime": {
     "end_time": "2025-09-16T19:48:04.767614Z",
     "start_time": "2025-09-16T19:48:04.632143Z"
    }
   },
   "source": [
    "from sklearn.model_selection import GridSearchCV,RandomizedSearchCV\n",
    "from sklearn.ensemble import RandomForestClassifier\n",
    "from sklearn.tree import DecisionTreeClassifier\n",
    "from sklearn.neighbors import KNeighborsClassifier\n",
    "from sklearn.linear_model import LogisticRegression\n",
    "from sklearn.svm import SVC\n",
    "from sklearn.model_selection import train_test_split\n",
    "from sklearn.metrics import accuracy_score,precision_score,recall_score,f1_score,confusion_matrix,ConfusionMatrixDisplay,classification_report,roc_auc_score\n",
    "import pandas as pd\n",
    "import matplotlib.pyplot as plt\n",
    "import seaborn as sns\n",
    "import joblib\n",
    "import warnings\n",
    "warnings.filterwarnings('ignore')"
   ],
   "outputs": [],
   "execution_count": 1
  },
  {
   "cell_type": "code",
   "id": "cf43d791",
   "metadata": {
    "ExecuteTime": {
     "end_time": "2025-09-16T19:48:04.860083Z",
     "start_time": "2025-09-16T19:48:04.852270Z"
    }
   },
   "source": [
    "data = pd.read_csv('../data/features_selected_rfe.csv')\n",
    "X = data.drop(columns=['num'])\n",
    "y = data['num']"
   ],
   "outputs": [],
   "execution_count": 2
  },
  {
   "cell_type": "code",
   "id": "c02da06e",
   "metadata": {
    "ExecuteTime": {
     "end_time": "2025-09-16T19:48:04.902775Z",
     "start_time": "2025-09-16T19:48:04.898084Z"
    }
   },
   "source": [
    "X_train,X_test,y_train,y_test = train_test_split(X,y,test_size=0.2,stratify=y,random_state=42)"
   ],
   "outputs": [],
   "execution_count": 3
  },
  {
   "cell_type": "code",
   "id": "db8190a9",
   "metadata": {
    "ExecuteTime": {
     "end_time": "2025-09-16T19:48:04.922481Z",
     "start_time": "2025-09-16T19:48:04.920010Z"
    }
   },
   "source": [
    "def print_performance(model,X_train,y_train,X_test,y_test):\n",
    "    model.fit(X_train,y_train)\n",
    "    y_pred = model.predict(X_test)\n",
    "    print(f'Test Accuracy: {accuracy_score(y_train,model.predict(X_train))*100:.2f}%')\n",
    "    print(f'Test Accuracy: {accuracy_score(y_test,y_pred)*100:.2f}%')\n",
    "    print(f\"ROC score: {roc_auc_score(y_test,y_pred):.3f}\")\n",
    "    print(f\"Precision score: {precision_score(y_test,y_pred):.2f}\")\n",
    "    print(f\"Recall score: {recall_score(y_test,y_pred):.2f}\")\n",
    "    print(f\"F1 Score score: {f1_score(y_test,y_pred):.2f}\")"
   ],
   "outputs": [],
   "execution_count": 4
  },
  {
   "cell_type": "markdown",
   "id": "691f4793",
   "metadata": {},
   "source": [
    "## Decision Tree Best Hyperparameters by GridSearchCV"
   ]
  },
  {
   "cell_type": "code",
   "id": "46d6cbd7",
   "metadata": {
    "ExecuteTime": {
     "end_time": "2025-09-16T19:50:40.558436Z",
     "start_time": "2025-09-16T19:48:04.938060Z"
    }
   },
   "source": [
    "# Hyperparameter tuning for Decision Tree\n",
    "param_grid = {\n",
    "    'criterion': ['gini', 'entropy', 'log_loss'] ,\n",
    "    'splitter':['best', 'random'], \n",
    "    'max_depth': [5,10,15,20], \n",
    "    'min_samples_split': [2,4,6],\n",
    "    'min_samples_leaf': [1,2,3,4],\n",
    "    'max_features': ['auto', 'sqrt', 'log2'], \n",
    "    'random_state': [0,1,2,5,0,42], \n",
    "    'max_leaf_nodes': [10,50,100]\n",
    "\n",
    "}\n",
    "grid_search = GridSearchCV(DecisionTreeClassifier(), param_grid, cv=5)\n",
    "grid_search.fit(X_train, y_train)\n",
    "\n",
    "print(\"Best Hyperparameters:\", grid_search.best_params_)"
   ],
   "outputs": [
    {
     "name": "stdout",
     "output_type": "stream",
     "text": [
      "Best Hyperparameters: {'criterion': 'gini', 'max_depth': 10, 'max_features': 'sqrt', 'max_leaf_nodes': 10, 'min_samples_leaf': 1, 'min_samples_split': 2, 'random_state': 0, 'splitter': 'random'}\n"
     ]
    }
   ],
   "execution_count": 5
  },
  {
   "cell_type": "code",
   "id": "b9b46341",
   "metadata": {
    "ExecuteTime": {
     "end_time": "2025-09-16T19:50:40.594948Z",
     "start_time": "2025-09-16T19:50:40.583353Z"
    }
   },
   "source": [
    "clf = DecisionTreeClassifier(criterion= 'entropy', max_depth= 5, max_features= 'sqrt', \n",
    "                             max_leaf_nodes= 10, min_samples_leaf= 1, min_samples_split= 2, \n",
    "                             random_state= 5, splitter='best')\n",
    "print_performance(clf,X_train,y_train,X_test,y_test)"
   ],
   "outputs": [
    {
     "name": "stdout",
     "output_type": "stream",
     "text": [
      "Test Accuracy: 79.75%\n",
      "Test Accuracy: 73.77%\n",
      "ROC score: 0.741\n",
      "Precision score: 0.69\n",
      "Recall score: 0.79\n",
      "F1 Score score: 0.73\n"
     ]
    }
   ],
   "execution_count": 6
  },
  {
   "cell_type": "markdown",
   "id": "5ef20e26",
   "metadata": {},
   "source": [
    "## Decision Tree Best Hyperparameters By RandomizedSearchCV"
   ]
  },
  {
   "cell_type": "code",
   "id": "c30b77b3",
   "metadata": {
    "ExecuteTime": {
     "end_time": "2025-09-16T19:50:40.723984Z",
     "start_time": "2025-09-16T19:50:40.631992Z"
    }
   },
   "source": [
    "# Hyperparameter tuning for Decision Tree\n",
    "param_grid = {\n",
    "    'criterion': ['gini', 'entropy', 'log_loss'] ,\n",
    "    'splitter':['best', 'random'], \n",
    "    'max_depth': [5,10,15,20], \n",
    "    'min_samples_split': [2,4,6],\n",
    "    'min_samples_leaf': [1,2,3,4],\n",
    "    'max_features': ['auto', 'sqrt', 'log2'], \n",
    "    'random_state': [0,1,2,5,0,42], \n",
    "    'max_leaf_nodes': [10,50,100]\n",
    "\n",
    "}\n",
    "grid_search = RandomizedSearchCV(DecisionTreeClassifier(), param_grid, cv=5)\n",
    "grid_search.fit(X_train, y_train)\n",
    "\n",
    "print(\"Best Hyperparameters:\", grid_search.best_params_)"
   ],
   "outputs": [
    {
     "name": "stdout",
     "output_type": "stream",
     "text": [
      "Best Hyperparameters: {'splitter': 'random', 'random_state': 0, 'min_samples_split': 6, 'min_samples_leaf': 3, 'max_leaf_nodes': 100, 'max_features': 'sqrt', 'max_depth': 20, 'criterion': 'log_loss'}\n"
     ]
    }
   ],
   "execution_count": 7
  },
  {
   "cell_type": "code",
   "id": "cd2acd1c",
   "metadata": {
    "ExecuteTime": {
     "end_time": "2025-09-16T19:50:40.753768Z",
     "start_time": "2025-09-16T19:50:40.740543Z"
    }
   },
   "source": [
    "clf = DecisionTreeClassifier(splitter= 'best', random_state= 2, min_samples_split= 6, min_samples_leaf=4,\n",
    "                              max_leaf_nodes= 100, max_features= 'log2', max_depth= 5, criterion='entropy')\n",
    "print_performance(clf,X_train,y_train,X_test,y_test)"
   ],
   "outputs": [
    {
     "name": "stdout",
     "output_type": "stream",
     "text": [
      "Test Accuracy: 85.54%\n",
      "Test Accuracy: 75.41%\n",
      "ROC score: 0.754\n",
      "Precision score: 0.72\n",
      "Recall score: 0.75\n",
      "F1 Score score: 0.74\n"
     ]
    }
   ],
   "execution_count": 8
  },
  {
   "cell_type": "markdown",
   "id": "a7689209",
   "metadata": {},
   "source": [
    "## Random Forest Best Hyperparameters by GridSearchCV"
   ]
  },
  {
   "cell_type": "code",
   "id": "779cbd57",
   "metadata": {
    "ExecuteTime": {
     "end_time": "2025-09-16T19:50:55.945065Z",
     "start_time": "2025-09-16T19:50:40.812765Z"
    }
   },
   "source": [
    "# Hyperparameter tuning for Random Forest\n",
    "param_grid = {\n",
    "    'n_estimators': [10, 50, 100, 150, 200, 250],\n",
    "    'max_depth': [None, 10, 20, 30, 40, 50],\n",
    "}\n",
    "grid_search = GridSearchCV(RandomForestClassifier(), param_grid, cv=5)\n",
    "grid_search.fit(X_train, y_train)\n",
    "\n",
    "print(\"Best Hyperparameters:\", grid_search.best_params_)"
   ],
   "outputs": [
    {
     "name": "stdout",
     "output_type": "stream",
     "text": [
      "Best Hyperparameters: {'max_depth': 50, 'n_estimators': 150}\n"
     ]
    }
   ],
   "execution_count": 9
  },
  {
   "cell_type": "code",
   "id": "59242194",
   "metadata": {
    "ExecuteTime": {
     "end_time": "2025-09-16T19:50:55.971365Z",
     "start_time": "2025-09-16T19:50:55.953206Z"
    }
   },
   "source": [
    "clf = RandomForestClassifier(max_depth=30,n_estimators=10)\n",
    "print_performance(clf,X_train,y_train,X_test,y_test)"
   ],
   "outputs": [
    {
     "name": "stdout",
     "output_type": "stream",
     "text": [
      "Test Accuracy: 98.76%\n",
      "Test Accuracy: 86.89%\n",
      "ROC score: 0.868\n",
      "Precision score: 0.86\n",
      "Recall score: 0.86\n",
      "F1 Score score: 0.86\n"
     ]
    }
   ],
   "execution_count": 10
  },
  {
   "cell_type": "markdown",
   "id": "b4f55450",
   "metadata": {},
   "source": [
    "## Random Forest Best Hyperparameters by RandomizedSearchCV"
   ]
  },
  {
   "cell_type": "code",
   "id": "b33d76f6",
   "metadata": {
    "ExecuteTime": {
     "end_time": "2025-09-16T19:51:01.558797Z",
     "start_time": "2025-09-16T19:50:55.996664Z"
    }
   },
   "source": [
    "# Hyperparameter tuning for Random Forest\n",
    "param_grid = {\n",
    "    'n_estimators': [10, 50, 100, 150, 200, 250],\n",
    "    'max_depth': [None, 10, 20, 30, 40, 50],\n",
    "}\n",
    "grid_search = RandomizedSearchCV(RandomForestClassifier(), param_grid, cv=5)\n",
    "grid_search.fit(X_train, y_train)\n",
    "\n",
    "print(\"Best Hyperparameters:\", grid_search.best_params_)"
   ],
   "outputs": [
    {
     "name": "stdout",
     "output_type": "stream",
     "text": [
      "Best Hyperparameters: {'n_estimators': 50, 'max_depth': None}\n"
     ]
    }
   ],
   "execution_count": 11
  },
  {
   "cell_type": "code",
   "id": "c161c3d1",
   "metadata": {
    "ExecuteTime": {
     "end_time": "2025-09-16T19:51:01.678637Z",
     "start_time": "2025-09-16T19:51:01.567315Z"
    }
   },
   "source": [
    "clf = RandomForestClassifier(max_depth=20,n_estimators=150)\n",
    "print_performance(clf,X_train,y_train,X_test,y_test)"
   ],
   "outputs": [
    {
     "name": "stdout",
     "output_type": "stream",
     "text": [
      "Test Accuracy: 100.00%\n",
      "Test Accuracy: 81.97%\n",
      "ROC score: 0.825\n",
      "Precision score: 0.76\n",
      "Recall score: 0.89\n",
      "F1 Score score: 0.82\n"
     ]
    }
   ],
   "execution_count": 12
  },
  {
   "cell_type": "markdown",
   "id": "fbc53469",
   "metadata": {},
   "source": [
    "## K Nearest Neighbor Best Hyperparameters by GridSearchCV"
   ]
  },
  {
   "cell_type": "code",
   "id": "e94ca5cf",
   "metadata": {
    "ExecuteTime": {
     "end_time": "2025-09-16T19:51:07.290213Z",
     "start_time": "2025-09-16T19:51:01.703724Z"
    }
   },
   "source": [
    "# Hyperparameter tuning for Random Forest\n",
    "param_grid = {\n",
    "    'n_neighbors': [1,3,5,7,9,11],\n",
    "    'weights': ['uniform', 'distance'],\n",
    "    'algorithm': ['auto', 'ball_tree', 'kd_tree', 'brute'] ,\n",
    "    'leaf_size': [5,10,20,30,40,50]\n",
    "}\n",
    "grid_search = GridSearchCV(KNeighborsClassifier(), param_grid, cv=5)\n",
    "grid_search.fit(X_train, y_train)\n",
    "\n",
    "print(\"Best Hyperparameters:\", grid_search.best_params_)"
   ],
   "outputs": [
    {
     "name": "stdout",
     "output_type": "stream",
     "text": [
      "Best Hyperparameters: {'algorithm': 'auto', 'leaf_size': 5, 'n_neighbors': 11, 'weights': 'uniform'}\n"
     ]
    }
   ],
   "execution_count": 13
  },
  {
   "cell_type": "code",
   "id": "b8a87bc3",
   "metadata": {
    "ExecuteTime": {
     "end_time": "2025-09-16T19:51:07.328610Z",
     "start_time": "2025-09-16T19:51:07.311494Z"
    }
   },
   "source": [
    "clf = KNeighborsClassifier(algorithm= 'auto', leaf_size= 5, n_neighbors= 7, weights= 'uniform')\n",
    "print_performance(clf,X_train,y_train,X_test,y_test)"
   ],
   "outputs": [
    {
     "name": "stdout",
     "output_type": "stream",
     "text": [
      "Test Accuracy: 83.88%\n",
      "Test Accuracy: 83.61%\n",
      "ROC score: 0.840\n",
      "Precision score: 0.78\n",
      "Recall score: 0.89\n",
      "F1 Score score: 0.83\n"
     ]
    }
   ],
   "execution_count": 14
  },
  {
   "cell_type": "markdown",
   "id": "a6085fda",
   "metadata": {},
   "source": [
    "## K Nearest Neighbors Best Hyperparameters by RandomizedSearchCV"
   ]
  },
  {
   "cell_type": "code",
   "id": "bfe93be8",
   "metadata": {
    "ExecuteTime": {
     "end_time": "2025-09-16T19:51:07.491069Z",
     "start_time": "2025-09-16T19:51:07.346354Z"
    }
   },
   "source": [
    "# Hyperparameter tuning for Random Forest\n",
    "param_grid = {\n",
    "    'n_neighbors': [1,3,5,7,9,11],\n",
    "    'weights': ['uniform', 'distance'],\n",
    "    'algorithm': ['auto', 'ball_tree', 'kd_tree', 'brute'] ,\n",
    "    'leaf_size': [5,10,20,30,40,50]\n",
    "}\n",
    "grid_search = RandomizedSearchCV(KNeighborsClassifier(), param_grid, cv=5)\n",
    "grid_search.fit(X_train, y_train)\n",
    "\n",
    "print(\"Best Hyperparameters:\", grid_search.best_params_)"
   ],
   "outputs": [
    {
     "name": "stdout",
     "output_type": "stream",
     "text": [
      "Best Hyperparameters: {'weights': 'uniform', 'n_neighbors': 11, 'leaf_size': 5, 'algorithm': 'auto'}\n"
     ]
    }
   ],
   "execution_count": 15
  },
  {
   "cell_type": "code",
   "id": "96f270a9",
   "metadata": {
    "ExecuteTime": {
     "end_time": "2025-09-16T19:51:07.529801Z",
     "start_time": "2025-09-16T19:51:07.514612Z"
    }
   },
   "source": [
    "clf = KNeighborsClassifier(algorithm= 'auto', leaf_size= 10, n_neighbors= 11, weights= 'uniform')\n",
    "print_performance(clf,X_train,y_train,X_test,y_test)"
   ],
   "outputs": [
    {
     "name": "stdout",
     "output_type": "stream",
     "text": [
      "Test Accuracy: 83.47%\n",
      "Test Accuracy: 85.25%\n",
      "ROC score: 0.856\n",
      "Precision score: 0.81\n",
      "Recall score: 0.89\n",
      "F1 Score score: 0.85\n"
     ]
    }
   ],
   "execution_count": 16
  },
  {
   "cell_type": "markdown",
   "id": "f7018abd",
   "metadata": {},
   "source": [
    "## Support Vector Machine SVM Best Hyperparameters by GridSearchCV and RandomizedSearchCV"
   ]
  },
  {
   "cell_type": "code",
   "id": "824f7481",
   "metadata": {
    "ExecuteTime": {
     "end_time": "2025-09-16T19:51:07.601461Z",
     "start_time": "2025-09-16T19:51:07.547307Z"
    }
   },
   "source": [
    "# Hyperparameter tuning for Decision Tree\n",
    "param_grid = {\n",
    "    'C': [0.1,0.5,1,10]\n",
    "\n",
    "}\n",
    "grid_search = GridSearchCV(SVC(), param_grid, cv=5)\n",
    "grid_search.fit(X_train, y_train)\n",
    "\n",
    "print(\"Best Hyperparameters:\", grid_search.best_params_)"
   ],
   "outputs": [
    {
     "name": "stdout",
     "output_type": "stream",
     "text": [
      "Best Hyperparameters: {'C': 0.1}\n"
     ]
    }
   ],
   "execution_count": 17
  },
  {
   "cell_type": "code",
   "id": "97df389c",
   "metadata": {
    "ExecuteTime": {
     "end_time": "2025-09-16T19:51:07.673355Z",
     "start_time": "2025-09-16T19:51:07.617235Z"
    }
   },
   "source": [
    "# Hyperparameter tuning for Decision Tree\n",
    "param_grid = {\n",
    "    'C': [0.1,0.5,1,10]\n",
    "\n",
    "}\n",
    "grid_search = RandomizedSearchCV(SVC(), param_grid, cv=5)\n",
    "grid_search.fit(X_train, y_train)\n",
    "\n",
    "print(\"Best Hyperparameters:\", grid_search.best_params_)"
   ],
   "outputs": [
    {
     "name": "stdout",
     "output_type": "stream",
     "text": [
      "Best Hyperparameters: {'C': 0.1}\n"
     ]
    }
   ],
   "execution_count": 18
  },
  {
   "cell_type": "code",
   "id": "7974f980",
   "metadata": {
    "ExecuteTime": {
     "end_time": "2025-09-16T19:51:07.705516Z",
     "start_time": "2025-09-16T19:51:07.688145Z"
    }
   },
   "source": [
    "clf = SVC(C=10,probability=True)\n",
    "print_performance(clf,X_train,y_train,X_test,y_test)"
   ],
   "outputs": [
    {
     "name": "stdout",
     "output_type": "stream",
     "text": [
      "Test Accuracy: 92.15%\n",
      "Test Accuracy: 75.41%\n",
      "ROC score: 0.756\n",
      "Precision score: 0.71\n",
      "Recall score: 0.79\n",
      "F1 Score score: 0.75\n"
     ]
    }
   ],
   "execution_count": 19
  },
  {
   "cell_type": "markdown",
   "id": "d85a85fc",
   "metadata": {},
   "source": [
    "## Logistic Regression Best Hyperparameters by RandomizedSearchCV"
   ]
  },
  {
   "cell_type": "code",
   "id": "d2782e04",
   "metadata": {
    "ExecuteTime": {
     "end_time": "2025-09-16T19:51:07.801692Z",
     "start_time": "2025-09-16T19:51:07.720391Z"
    }
   },
   "source": [
    "# Hyperparameter tuning for Decision Tree\n",
    "param_grid = {\n",
    "    'max_iter': [1,10,100,1000,10000,100000]\n",
    "\n",
    "}\n",
    "grid_search = RandomizedSearchCV(LogisticRegression(), param_grid, cv=5)\n",
    "grid_search.fit(X_train, y_train)\n",
    "\n",
    "print(\"Best Hyperparameters:\", grid_search.best_params_)"
   ],
   "outputs": [
    {
     "name": "stdout",
     "output_type": "stream",
     "text": [
      "Best Hyperparameters: {'max_iter': 10}\n"
     ]
    }
   ],
   "execution_count": 20
  },
  {
   "cell_type": "code",
   "id": "187bf737",
   "metadata": {
    "ExecuteTime": {
     "end_time": "2025-09-16T19:51:07.831437Z",
     "start_time": "2025-09-16T19:51:07.819138Z"
    }
   },
   "source": [
    "clf = LogisticRegression(max_iter=10)\n",
    "print_performance(clf,X_train,y_train,X_test,y_test)"
   ],
   "outputs": [
    {
     "name": "stdout",
     "output_type": "stream",
     "text": [
      "Test Accuracy: 83.06%\n",
      "Test Accuracy: 85.25%\n",
      "ROC score: 0.858\n",
      "Precision score: 0.79\n",
      "Recall score: 0.93\n",
      "F1 Score score: 0.85\n"
     ]
    }
   ],
   "execution_count": 21
  },
  {
   "cell_type": "markdown",
   "id": "7f66aa5f",
   "metadata": {},
   "source": [
    "## Logistic Regression Best Hyperparameters by GridSearchCV"
   ]
  },
  {
   "cell_type": "code",
   "id": "8f12848c",
   "metadata": {
    "ExecuteTime": {
     "end_time": "2025-09-16T19:51:07.930303Z",
     "start_time": "2025-09-16T19:51:07.851672Z"
    }
   },
   "source": [
    "# Hyperparameter tuning for Decision Tree\n",
    "param_grid = {\n",
    "    'max_iter': [1,10,100,1000,10000,100000]\n",
    "\n",
    "}\n",
    "grid_search = GridSearchCV(LogisticRegression(), param_grid, cv=5)\n",
    "grid_search.fit(X_train, y_train)\n",
    "\n",
    "print(\"Best Hyperparameters:\", grid_search.best_params_)"
   ],
   "outputs": [
    {
     "name": "stdout",
     "output_type": "stream",
     "text": [
      "Best Hyperparameters: {'max_iter': 10}\n"
     ]
    }
   ],
   "execution_count": 22
  },
  {
   "cell_type": "code",
   "id": "599fc84f",
   "metadata": {
    "ExecuteTime": {
     "end_time": "2025-09-16T19:51:07.968462Z",
     "start_time": "2025-09-16T19:51:07.955822Z"
    }
   },
   "source": [
    "clf = LogisticRegression(max_iter=10)\n",
    "print_performance(clf,X_train,y_train,X_test,y_test)"
   ],
   "outputs": [
    {
     "name": "stdout",
     "output_type": "stream",
     "text": [
      "Test Accuracy: 83.06%\n",
      "Test Accuracy: 85.25%\n",
      "ROC score: 0.858\n",
      "Precision score: 0.79\n",
      "Recall score: 0.93\n",
      "F1 Score score: 0.85\n"
     ]
    }
   ],
   "execution_count": 23
  },
  {
   "cell_type": "markdown",
   "id": "193fc6a6",
   "metadata": {},
   "source": [
    "## Performance Comparison"
   ]
  },
  {
   "cell_type": "code",
   "id": "ebe8bf1b",
   "metadata": {
    "ExecuteTime": {
     "end_time": "2025-09-16T19:51:08.002586Z",
     "start_time": "2025-09-16T19:51:07.999439Z"
    }
   },
   "source": [
    "performance = pd.DataFrame({\n",
    "    'Model':['Decision Tree','Random Forest','KNearestNeighbor','Support Vector Machine','Logistic Regression'],\n",
    "    'Acc':  ['81.97%',        '81.97%',      '80.33%',           '81.97%',                  '81.97%'],\n",
    "    'Roc Score':[0.820,       0.823,          0.807,               0.823,                     0.823],\n",
    "    'Precision':[0.79,        0.77,           0.75,                0.77,                       0.77],\n",
    "    'Recall':   [0.82,        0.86,           0.86,                0.86,                       0.86],\n",
    "    'F1 Score': [0.81,        0.81,           0.80,                0.81,                       0.81]\n",
    "})"
   ],
   "outputs": [],
   "execution_count": 24
  },
  {
   "cell_type": "code",
   "id": "cd5094cf",
   "metadata": {
    "ExecuteTime": {
     "end_time": "2025-09-16T19:51:08.027202Z",
     "start_time": "2025-09-16T19:51:08.020166Z"
    }
   },
   "source": [
    "performance"
   ],
   "outputs": [
    {
     "data": {
      "text/plain": [
       "                    Model     Acc  Roc Score  Precision  Recall  F1 Score\n",
       "0           Decision Tree  81.97%      0.820       0.79    0.82      0.81\n",
       "1           Random Forest  81.97%      0.823       0.77    0.86      0.81\n",
       "2        KNearestNeighbor  80.33%      0.807       0.75    0.86      0.80\n",
       "3  Support Vector Machine  81.97%      0.823       0.77    0.86      0.81\n",
       "4     Logistic Regression  81.97%      0.823       0.77    0.86      0.81"
      ],
      "text/html": [
       "<div>\n",
       "<style scoped>\n",
       "    .dataframe tbody tr th:only-of-type {\n",
       "        vertical-align: middle;\n",
       "    }\n",
       "\n",
       "    .dataframe tbody tr th {\n",
       "        vertical-align: top;\n",
       "    }\n",
       "\n",
       "    .dataframe thead th {\n",
       "        text-align: right;\n",
       "    }\n",
       "</style>\n",
       "<table border=\"1\" class=\"dataframe\">\n",
       "  <thead>\n",
       "    <tr style=\"text-align: right;\">\n",
       "      <th></th>\n",
       "      <th>Model</th>\n",
       "      <th>Acc</th>\n",
       "      <th>Roc Score</th>\n",
       "      <th>Precision</th>\n",
       "      <th>Recall</th>\n",
       "      <th>F1 Score</th>\n",
       "    </tr>\n",
       "  </thead>\n",
       "  <tbody>\n",
       "    <tr>\n",
       "      <th>0</th>\n",
       "      <td>Decision Tree</td>\n",
       "      <td>81.97%</td>\n",
       "      <td>0.820</td>\n",
       "      <td>0.79</td>\n",
       "      <td>0.82</td>\n",
       "      <td>0.81</td>\n",
       "    </tr>\n",
       "    <tr>\n",
       "      <th>1</th>\n",
       "      <td>Random Forest</td>\n",
       "      <td>81.97%</td>\n",
       "      <td>0.823</td>\n",
       "      <td>0.77</td>\n",
       "      <td>0.86</td>\n",
       "      <td>0.81</td>\n",
       "    </tr>\n",
       "    <tr>\n",
       "      <th>2</th>\n",
       "      <td>KNearestNeighbor</td>\n",
       "      <td>80.33%</td>\n",
       "      <td>0.807</td>\n",
       "      <td>0.75</td>\n",
       "      <td>0.86</td>\n",
       "      <td>0.80</td>\n",
       "    </tr>\n",
       "    <tr>\n",
       "      <th>3</th>\n",
       "      <td>Support Vector Machine</td>\n",
       "      <td>81.97%</td>\n",
       "      <td>0.823</td>\n",
       "      <td>0.77</td>\n",
       "      <td>0.86</td>\n",
       "      <td>0.81</td>\n",
       "    </tr>\n",
       "    <tr>\n",
       "      <th>4</th>\n",
       "      <td>Logistic Regression</td>\n",
       "      <td>81.97%</td>\n",
       "      <td>0.823</td>\n",
       "      <td>0.77</td>\n",
       "      <td>0.86</td>\n",
       "      <td>0.81</td>\n",
       "    </tr>\n",
       "  </tbody>\n",
       "</table>\n",
       "</div>"
      ]
     },
     "execution_count": 25,
     "metadata": {},
     "output_type": "execute_result"
    }
   ],
   "execution_count": 25
  },
  {
   "cell_type": "code",
   "id": "e5c28f3c",
   "metadata": {
    "ExecuteTime": {
     "end_time": "2025-09-16T19:51:08.069045Z",
     "start_time": "2025-09-16T19:51:08.065469Z"
    }
   },
   "source": [
    "import joblib\n",
    "\n",
    "# Save the model to a file\n",
    "joblib.dump(clf, '../models/logistic_regression_model.pkl')"
   ],
   "outputs": [
    {
     "data": {
      "text/plain": [
       "['../models/logistic_regression_model.pkl']"
      ]
     },
     "execution_count": 26,
     "metadata": {},
     "output_type": "execute_result"
    }
   ],
   "execution_count": 26
  },
  {
   "cell_type": "code",
   "id": "5a00db00",
   "metadata": {
    "ExecuteTime": {
     "end_time": "2025-09-16T19:51:08.103118Z",
     "start_time": "2025-09-16T19:51:08.099885Z"
    }
   },
   "source": [
    "# Load the model from the file\n",
    "loaded_model = joblib.load('../models/logistic_regression_model.pkl')\n",
    "\n",
    "# Use the model to make predictions\n",
    "predictions = loaded_model.predict(X_test)"
   ],
   "outputs": [],
   "execution_count": 27
  },
  {
   "cell_type": "code",
   "id": "cb79c754",
   "metadata": {
    "ExecuteTime": {
     "end_time": "2025-09-16T19:51:08.160248Z",
     "start_time": "2025-09-16T19:51:08.156998Z"
    }
   },
   "source": [
    "accuracy_score(y_test,predictions)"
   ],
   "outputs": [
    {
     "data": {
      "text/plain": [
       "0.8524590163934426"
      ]
     },
     "execution_count": 28,
     "metadata": {},
     "output_type": "execute_result"
    }
   ],
   "execution_count": 28
  },
  {
   "metadata": {
    "ExecuteTime": {
     "end_time": "2025-09-16T19:51:08.199919Z",
     "start_time": "2025-09-16T19:51:08.195740Z"
    }
   },
   "cell_type": "code",
   "source": [
    "# Save the trained model\n",
    "joblib.dump(clf, \"../models/best_model.pkl\")"
   ],
   "id": "9ce8f315f30a29f5",
   "outputs": [
    {
     "data": {
      "text/plain": [
       "['../models/best_model.pkl']"
      ]
     },
     "execution_count": 29,
     "metadata": {},
     "output_type": "execute_result"
    }
   ],
   "execution_count": 29
  },
  {
   "metadata": {
    "ExecuteTime": {
     "end_time": "2025-09-16T19:51:08.218180Z",
     "start_time": "2025-09-16T19:51:08.215852Z"
    }
   },
   "cell_type": "code",
   "source": "model = joblib.load('../models/best_model.pkl')",
   "id": "26c633e963cae68c",
   "outputs": [],
   "execution_count": 30
  },
  {
   "metadata": {
    "ExecuteTime": {
     "end_time": "2025-09-16T19:51:51.339277Z",
     "start_time": "2025-09-16T19:51:51.336813Z"
    }
   },
   "cell_type": "code",
   "source": [
    "if hasattr(model, \"feature_names_in_\"):\n",
    "    print(\"Features used during training:\")\n",
    "    print(model.feature_names_in_)"
   ],
   "id": "36e094a8a1064239",
   "outputs": [
    {
     "name": "stdout",
     "output_type": "stream",
     "text": [
      "Features used during training:\n",
      "['cp' 'ca' 'oldpeak' 'thal' 'thalach' 'age']\n"
     ]
    }
   ],
   "execution_count": 33
  },
  {
   "metadata": {
    "ExecuteTime": {
     "end_time": "2025-09-16T19:51:08.278052Z",
     "start_time": "2025-09-16T19:51:08.266896Z"
    }
   },
   "cell_type": "code",
   "source": "print_performance(model,X_train,y_train,X_test,y_test)",
   "id": "82fa6f7c356395e2",
   "outputs": [
    {
     "name": "stdout",
     "output_type": "stream",
     "text": [
      "Test Accuracy: 83.06%\n",
      "Test Accuracy: 85.25%\n",
      "ROC score: 0.858\n",
      "Precision score: 0.79\n",
      "Recall score: 0.93\n",
      "F1 Score score: 0.85\n"
     ]
    }
   ],
   "execution_count": 32
  }
 ],
 "metadata": {
  "kernelspec": {
   "display_name": "base",
   "language": "python",
   "name": "python3"
  },
  "language_info": {
   "codemirror_mode": {
    "name": "ipython",
    "version": 3
   },
   "file_extension": ".py",
   "mimetype": "text/x-python",
   "name": "python",
   "nbconvert_exporter": "python",
   "pygments_lexer": "ipython3",
   "version": "3.11.5"
  }
 },
 "nbformat": 4,
 "nbformat_minor": 5
}
